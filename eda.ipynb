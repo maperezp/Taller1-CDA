{
 "cells": [
  {
   "cell_type": "markdown",
   "id": "682f307a",
   "metadata": {},
   "source": [
    "**Taller 1 - Demanda de ocupación hotelera**\n",
    "\n",
    "**Integrantes:**\n",
    "- María Alejandra Pérez Petro - 201923972\n",
    "- Daniel Esteban Aguilera Figueroa - 202010592 "
   ]
  },
  {
   "cell_type": "code",
   "execution_count": null,
   "id": "253c1c98",
   "metadata": {},
   "outputs": [],
   "source": []
  }
 ],
 "metadata": {
  "language_info": {
   "name": "python"
  }
 },
 "nbformat": 4,
 "nbformat_minor": 5
}
